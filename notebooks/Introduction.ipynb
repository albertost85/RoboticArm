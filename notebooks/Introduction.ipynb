{
 "cells": [
  {
   "cell_type": "code",
   "execution_count": 1,
   "id": "20c767e3",
   "metadata": {},
   "outputs": [],
   "source": [
    "import gym\n",
    "import rlbench.gym\n",
    "from stable_baselines3 import A2C\n",
    "from stable_baselines3.a2c.policies import MlpPolicy, CnnPolicy"
   ]
  },
  {
   "cell_type": "code",
   "execution_count": 2,
   "id": "2ee77bf1",
   "metadata": {},
   "outputs": [],
   "source": [
    "env_name = 'reach_target-state-v0'\n",
    "render_mode = 'human'\n",
    "observation_mode = 'state'\n",
    "policy_mode = 'MlpPolicy'\n",
    "model_name = 'A2C'\n",
    "\n"
   ]
  },
  {
   "cell_type": "code",
   "execution_count": 4,
   "id": "eb381e3f",
   "metadata": {},
   "outputs": [],
   "source": [
    "class myEnv(gym.Wrapper):\n",
    "    def __init__(self, env=None, max_steps_episode = 500):\n",
    "        super(myEnv, self).__init__(env)\n",
    "        self._step_counter = 0\n",
    "        self._max_steps_episode = max_steps_episode\n",
    "        \n",
    "    def step(self, action):\n",
    "        self._step_counter += 1\n",
    "        obs, reward, done, info = self.env.step(action)\n",
    "        if(self._step_counter > self._max_steps_episode):\n",
    "            done = True\n",
    "            reward = -1\n",
    "            self._step_counter = 0\n",
    "            print(\"Maximum steps reacheda tardado mucho\")\n",
    "        return obs, reward, done, info\n"
   ]
  },
  {
   "cell_type": "code",
   "execution_count": 5,
   "id": "c663d795",
   "metadata": {},
   "outputs": [],
   "source": [
    "name_model = env_name + '_' + render_mode + '_' + model_name\n",
    "env = gym.make(env_name, render_mode=render_mode, observation_mode=observation_mode)\n"
   ]
  },
  {
   "cell_type": "code",
   "execution_count": 6,
   "id": "377e67e4",
   "metadata": {},
   "outputs": [],
   "source": [
    "env = myEnv(env)\n"
   ]
  },
  {
   "cell_type": "code",
   "execution_count": 7,
   "id": "7827b063",
   "metadata": {},
   "outputs": [
    {
     "name": "stdout",
     "output_type": "stream",
     "text": [
      "Using cpu device\n",
      "Wrapping the env with a `Monitor` wrapper\n",
      "Wrapping the env in a DummyVecEnv.\n"
     ]
    }
   ],
   "source": [
    "model = A2C(policy_mode, env, verbose=1, tensorboard_log=\"./tb_log_name/\")"
   ]
  },
  {
   "cell_type": "code",
   "execution_count": 8,
   "id": "cfb278e8",
   "metadata": {},
   "outputs": [
    {
     "name": "stdout",
     "output_type": "stream",
     "text": [
      "Logging to ./tb_log_name/A2C_4\n",
      "a cascarla, ha tardado mucho\n"
     ]
    },
    {
     "data": {
      "text/plain": [
       "<stable_baselines3.a2c.a2c.A2C at 0x7f9245387550>"
      ]
     },
     "execution_count": 8,
     "metadata": {},
     "output_type": "execute_result"
    }
   ],
   "source": [
    "model.learn(300, eval_freq=100, n_eval_episodes=5, eval_log_path=\"./logs/\")"
   ]
  },
  {
   "cell_type": "code",
   "execution_count": 21,
   "id": "6bf24fb5",
   "metadata": {},
   "outputs": [
    {
     "data": {
      "text/plain": [
       "{'_handle': 12,\n",
       " '_num_joints': 7,\n",
       " 'joints': [<pyrep.objects.joint.Joint at 0x7fdde49bc280>,\n",
       "  <pyrep.objects.joint.Joint at 0x7fdd283ef460>,\n",
       "  <pyrep.objects.joint.Joint at 0x7fdd283ef4c0>,\n",
       "  <pyrep.objects.joint.Joint at 0x7fdd283ef430>,\n",
       "  <pyrep.objects.joint.Joint at 0x7fdd283ef5b0>,\n",
       "  <pyrep.objects.joint.Joint at 0x7fdd283ef610>,\n",
       "  <pyrep.objects.joint.Joint at 0x7fdd283ef670>],\n",
       " '_joint_handles': [13, 15, 17, 19, 21, 23, 25],\n",
       " 'max_velocity': 1.0,\n",
       " 'max_acceleration': 4.0,\n",
       " 'max_jerk': 1000,\n",
       " '_ik_target': <pyrep.objects.dummy.Dummy at 0x7fdde51fe5e0>,\n",
       " '_ik_tip': <pyrep.objects.dummy.Dummy at 0x7fdde5204760>,\n",
       " '_ik_group': 2030003,\n",
       " '_collision_collection': 2000000}"
      ]
     },
     "execution_count": 21,
     "metadata": {},
     "output_type": "execute_result"
    }
   ],
   "source": [
    "#print(env.observation_space)\n",
    "vars(env.env._robot.arm)\n",
    "#print(env.env._robot.arm.__dict__)"
   ]
  },
  {
   "cell_type": "code",
   "execution_count": 14,
   "id": "c7debaf1",
   "metadata": {},
   "outputs": [],
   "source": [
    "obs = env.reset()"
   ]
  },
  {
   "cell_type": "code",
   "execution_count": 43,
   "id": "bc5b0c54",
   "metadata": {},
   "outputs": [
    {
     "data": {
      "text/plain": [
       "{'_pyrep': <pyrep.pyrep.PyRep at 0x7fdd283ef190>,\n",
       " '_robot': <rlbench.backend.robot.Robot at 0x7fdd283ef940>,\n",
       " '_scene': <rlbench.backend.scene.Scene at 0x7fdd283ef9a0>,\n",
       " '_task': <rlbench.tasks.reach_target.ReachTarget at 0x7fdd283f8070>,\n",
       " '_variation_number': 0,\n",
       " '_action_mode': <rlbench.action_modes.ActionMode at 0x7fdd283ef100>,\n",
       " '_dataset_root': '',\n",
       " '_obs_config': <rlbench.observation_config.ObservationConfig at 0x7fdd28444ca0>,\n",
       " '_static_positions': False,\n",
       " '_attach_grasped_objects': True,\n",
       " '_reset_called': True,\n",
       " '_prev_ee_velocity': None,\n",
       " '_enable_path_observations': False,\n",
       " '_robot_shapes': [<pyrep.objects.shape.Shape at 0x7fdd283f8ca0>,\n",
       "  <pyrep.objects.shape.Shape at 0x7fdd283f8ac0>,\n",
       "  <pyrep.objects.shape.Shape at 0x7fdd283f8af0>,\n",
       "  <pyrep.objects.shape.Shape at 0x7fdd283f8970>,\n",
       "  <pyrep.objects.shape.Shape at 0x7fdd283f8b80>,\n",
       "  <pyrep.objects.shape.Shape at 0x7fdd283f8bb0>,\n",
       "  <pyrep.objects.shape.Shape at 0x7fdd283f8c10>,\n",
       "  <pyrep.objects.shape.Shape at 0x7fdd283f8cd0>,\n",
       "  <pyrep.objects.shape.Shape at 0x7fdd283f8d30>,\n",
       "  <pyrep.objects.shape.Shape at 0x7fdd283f8d90>,\n",
       "  <pyrep.objects.shape.Shape at 0x7fdd283f8df0>,\n",
       "  <pyrep.objects.shape.Shape at 0x7fdd283f8e50>,\n",
       "  <pyrep.objects.shape.Shape at 0x7fdd283f8eb0>,\n",
       "  <pyrep.objects.shape.Shape at 0x7fdd283f8f10>,\n",
       "  <pyrep.objects.shape.Shape at 0x7fdd283f8f70>,\n",
       "  <pyrep.objects.shape.Shape at 0x7fdd283f8fd0>,\n",
       "  <pyrep.objects.shape.Shape at 0x7fdd28400070>,\n",
       "  <pyrep.objects.shape.Shape at 0x7fdd284000d0>,\n",
       "  <pyrep.objects.shape.Shape at 0x7fdd28400130>,\n",
       "  <pyrep.objects.shape.Shape at 0x7fdd28400190>,\n",
       "  <pyrep.objects.shape.Shape at 0x7fdd284001f0>,\n",
       "  <pyrep.objects.shape.Shape at 0x7fdd28400250>,\n",
       "  <pyrep.objects.shape.Shape at 0x7fdd284002b0>]}"
      ]
     },
     "execution_count": 43,
     "metadata": {},
     "output_type": "execute_result"
    }
   ],
   "source": [
    "vars(env.task)"
   ]
  },
  {
   "cell_type": "code",
   "execution_count": 54,
   "id": "5fc6117f",
   "metadata": {},
   "outputs": [
    {
     "name": "stdout",
     "output_type": "stream",
     "text": [
      "[ 1.00000000e+00  3.33786011e-05 -2.11238861e-03 -4.76837158e-06\n",
      "  1.99317932e-03 -1.47819519e-04  7.29560852e-04 -1.14440918e-04\n",
      " -7.14897942e-06  1.75480872e-01 -8.55001781e-06 -8.73202741e-01\n",
      " -2.25986332e-06  1.22135472e+00  7.85387397e-01 -2.10542828e-02\n",
      "  2.39683132e+01 -3.96758839e-02 -1.62904129e+01 -1.40298635e-01\n",
      " -4.38615799e+00  3.43917273e-02  2.78630733e-01 -8.15699063e-03\n",
      "  1.47156966e+00 -2.37252493e-06  9.92713988e-01 -2.94828806e-06\n",
      "  1.20494887e-01  3.99997458e-02  3.99982594e-02  1.79127906e-03\n",
      " -4.32483852e-04  1.14887951e-06  1.78757461e-03  4.32065135e-04\n",
      " -7.01844669e-07  3.89102101e-02  6.76660985e-02  1.18909001e+00]\n"
     ]
    }
   ],
   "source": [
    "import numpy as np\n",
    "tip = env.env._robot.arm.get_tip()\n",
    "print(obs)\n",
    "velocities = env.env._robot.arm.get_joint_velocities()\n",
    "positions = env.env._robot.arm.get_joint_positions()\n",
    "forces = env.env._robot.arm.get_joint_forces()\n",
    "gripper_open = 1.0 if env.env._robot.gripper.get_open_amount()[0] > 0.9 else 0.0\n",
    "gripper_pose = np.array(tip.get_pose())\n",
    "gripper_matrix = tip.get_matrix()\n",
    "gripper_touch_forces= env.env._robot.gripper.get_touch_sensor_forces()\n",
    "gripper_joint_positions = np.array(env.env._robot.gripper.get_joint_positions())\n",
    "task_low_dim_state = env.task._task.get_low_dim_state()\n"
   ]
  },
  {
   "cell_type": "code",
   "execution_count": 55,
   "id": "7fae8aa1",
   "metadata": {},
   "outputs": [
    {
     "name": "stdout",
     "output_type": "stream",
     "text": [
      "1.0 [3.337860107421875e-05, -0.0021123886108398438, -4.76837158203125e-06, 0.0019931793212890625, -0.00014781951904296875, 0.0007295608520507812, -0.00011444091796875] [-7.1489794208901e-06, 0.17548087239265442, -8.550017810193822e-06, -0.8732027411460876, -2.2598633222514763e-06, 1.2213547229766846, 0.785387396812439] [-0.021054282784461975, 23.968313217163086, -0.03967588394880295, -16.29041290283203, -0.14029863476753235, -4.386157989501953, 0.034391727298498154] [ 2.78630733e-01 -8.15699063e-03  1.47156966e+00 -2.37252493e-06\n",
      "  9.92713988e-01 -2.94828806e-06  1.20494887e-01] [0.03999975 0.03999826] [[0.0017912790644913912, -0.00043248385190963745, 1.1488795053082868e-06], [0.0017875746125355363, 0.0004320651351008564, -7.018446694928571e-07]] [0.03891021 0.0676661  1.18909001]\n",
      "[ 2.78630733e-01 -8.15699063e-03  1.47156966e+00 -2.37252493e-06\n",
      "  9.92713988e-01 -2.94828806e-06  1.20494887e-01]\n"
     ]
    }
   ],
   "source": [
    "print(gripper_open, velocities, positions, forces, gripper_pose, gripper_joint_positions, gripper_touch_forces, task_low_dim_state)\n",
    "print(gripper_pose)"
   ]
  },
  {
   "cell_type": "code",
   "execution_count": 64,
   "id": "db830470",
   "metadata": {},
   "outputs": [
    {
     "data": {
      "text/plain": [
       "['__class__',\n",
       " '__delattr__',\n",
       " '__dict__',\n",
       " '__dir__',\n",
       " '__doc__',\n",
       " '__eq__',\n",
       " '__format__',\n",
       " '__ge__',\n",
       " '__getattribute__',\n",
       " '__gt__',\n",
       " '__hash__',\n",
       " '__init__',\n",
       " '__init_subclass__',\n",
       " '__le__',\n",
       " '__lt__',\n",
       " '__module__',\n",
       " '__ne__',\n",
       " '__new__',\n",
       " '__reduce__',\n",
       " '__reduce_ex__',\n",
       " '__repr__',\n",
       " '__setattr__',\n",
       " '__sizeof__',\n",
       " '__str__',\n",
       " '__subclasshook__',\n",
       " '__weakref__',\n",
       " '_assert_len',\n",
       " '_check_model',\n",
       " '_collision_collection',\n",
       " '_get_model_property',\n",
       " '_get_objects_in_tree',\n",
       " '_get_property',\n",
       " '_get_requested_type',\n",
       " '_handle',\n",
       " '_ik_group',\n",
       " '_ik_target',\n",
       " '_ik_tip',\n",
       " '_joint_handles',\n",
       " '_num_joints',\n",
       " '_set_model_property',\n",
       " '_set_property',\n",
       " 'check_arm_collision',\n",
       " 'check_collision',\n",
       " 'check_distance',\n",
       " 'copy',\n",
       " 'exists',\n",
       " 'get_bounding_box',\n",
       " 'get_bullet_friction',\n",
       " 'get_configs_for_tip_pose',\n",
       " 'get_configuration_tree',\n",
       " 'get_contact',\n",
       " 'get_explicit_handling',\n",
       " 'get_extension_string',\n",
       " 'get_handle',\n",
       " 'get_jacobian',\n",
       " 'get_joint_count',\n",
       " 'get_joint_forces',\n",
       " 'get_joint_intervals',\n",
       " 'get_joint_modes',\n",
       " 'get_joint_positions',\n",
       " 'get_joint_target_positions',\n",
       " 'get_joint_target_velocities',\n",
       " 'get_joint_types',\n",
       " 'get_joint_upper_velocity_limits',\n",
       " 'get_joint_velocities',\n",
       " 'get_linear_path',\n",
       " 'get_matrix',\n",
       " 'get_model_bounding_box',\n",
       " 'get_name',\n",
       " 'get_nonlinear_path',\n",
       " 'get_object',\n",
       " 'get_object_name',\n",
       " 'get_object_type',\n",
       " 'get_objects_in_tree',\n",
       " 'get_orientation',\n",
       " 'get_parent',\n",
       " 'get_path',\n",
       " 'get_path_from_cartesian_path',\n",
       " 'get_pose',\n",
       " 'get_position',\n",
       " 'get_quaternion',\n",
       " 'get_tip',\n",
       " 'get_type',\n",
       " 'get_velocity',\n",
       " 'get_visuals',\n",
       " 'is_collidable',\n",
       " 'is_detectable',\n",
       " 'is_measurable',\n",
       " 'is_model',\n",
       " 'is_model_collidable',\n",
       " 'is_model_detectable',\n",
       " 'is_model_dynamic',\n",
       " 'is_model_measurable',\n",
       " 'is_model_renderable',\n",
       " 'is_model_respondable',\n",
       " 'is_renderable',\n",
       " 'joints',\n",
       " 'max_acceleration',\n",
       " 'max_jerk',\n",
       " 'max_velocity',\n",
       " 'remove',\n",
       " 'reset_dynamic_object',\n",
       " 'rotate',\n",
       " 'save_model',\n",
       " 'set_bullet_friction',\n",
       " 'set_collidable',\n",
       " 'set_control_loop_enabled',\n",
       " 'set_detectable',\n",
       " 'set_explicit_handling',\n",
       " 'set_ik_element_properties',\n",
       " 'set_ik_group_properties',\n",
       " 'set_joint_forces',\n",
       " 'set_joint_intervals',\n",
       " 'set_joint_mode',\n",
       " 'set_joint_positions',\n",
       " 'set_joint_target_positions',\n",
       " 'set_joint_target_velocities',\n",
       " 'set_matrix',\n",
       " 'set_measurable',\n",
       " 'set_model',\n",
       " 'set_model_collidable',\n",
       " 'set_model_detectable',\n",
       " 'set_model_dynamic',\n",
       " 'set_model_measurable',\n",
       " 'set_model_renderable',\n",
       " 'set_model_respondable',\n",
       " 'set_motor_locked_at_zero_velocity',\n",
       " 'set_name',\n",
       " 'set_orientation',\n",
       " 'set_parent',\n",
       " 'set_pose',\n",
       " 'set_position',\n",
       " 'set_quaternion',\n",
       " 'set_renderable',\n",
       " 'solve_ik',\n",
       " 'solve_ik_via_jacobian',\n",
       " 'solve_ik_via_sampling',\n",
       " 'still_exists']"
      ]
     },
     "execution_count": 64,
     "metadata": {},
     "output_type": "execute_result"
    }
   ],
   "source": [
    "dir(env.env._robot.arm)"
   ]
  },
  {
   "cell_type": "code",
   "execution_count": 5,
   "id": "22371e61",
   "metadata": {},
   "outputs": [],
   "source": [
    "picture = env.render()\n",
    "from matplotlib import pyplot as PLT\n",
    "PLT.show(picture)"
   ]
  },
  {
   "cell_type": "code",
   "execution_count": 7,
   "id": "0c22f226",
   "metadata": {},
   "outputs": [
    {
     "name": "stdout",
     "output_type": "stream",
     "text": [
      "None\n"
     ]
    }
   ],
   "source": [
    "print(picture)"
   ]
  },
  {
   "cell_type": "code",
   "execution_count": 8,
   "id": "6e6c65f5",
   "metadata": {},
   "outputs": [],
   "source": [
    "env.render()"
   ]
  },
  {
   "cell_type": "code",
   "execution_count": 9,
   "id": "fe242b54",
   "metadata": {},
   "outputs": [],
   "source": [
    "a=env.render(mode=render_mode)"
   ]
  },
  {
   "cell_type": "code",
   "execution_count": 10,
   "id": "14da0e49",
   "metadata": {},
   "outputs": [],
   "source": [
    "a"
   ]
  },
  {
   "cell_type": "code",
   "execution_count": 11,
   "id": "730f7b27",
   "metadata": {},
   "outputs": [],
   "source": [
    "obs = env.reset()"
   ]
  },
  {
   "cell_type": "code",
   "execution_count": 12,
   "id": "2713939c",
   "metadata": {},
   "outputs": [
    {
     "ename": "IndexError",
     "evalue": "only integers, slices (`:`), ellipsis (`...`), numpy.newaxis (`None`) and integer or boolean arrays are valid indices",
     "output_type": "error",
     "traceback": [
      "\u001b[0;31m---------------------------------------------------------------------------\u001b[0m",
      "\u001b[0;31mIndexError\u001b[0m                                Traceback (most recent call last)",
      "\u001b[0;32m<ipython-input-12-c27514aa8bfe>\u001b[0m in \u001b[0;36m<module>\u001b[0;34m\u001b[0m\n\u001b[0;32m----> 1\u001b[0;31m \u001b[0mimg\u001b[0m \u001b[0;34m=\u001b[0m \u001b[0mobs\u001b[0m\u001b[0;34m[\u001b[0m\u001b[0;34m'front_rgb'\u001b[0m\u001b[0;34m]\u001b[0m\u001b[0;34m\u001b[0m\u001b[0;34m\u001b[0m\u001b[0m\n\u001b[0m\u001b[1;32m      2\u001b[0m \u001b[0mplt\u001b[0m\u001b[0;34m.\u001b[0m\u001b[0mimshow\u001b[0m\u001b[0;34m(\u001b[0m\u001b[0mimg\u001b[0m\u001b[0;34m)\u001b[0m\u001b[0;34m\u001b[0m\u001b[0;34m\u001b[0m\u001b[0m\n",
      "\u001b[0;31mIndexError\u001b[0m: only integers, slices (`:`), ellipsis (`...`), numpy.newaxis (`None`) and integer or boolean arrays are valid indices"
     ]
    }
   ],
   "source": [
    "img = obs['front_rgb']\n",
    "plt.imshow(img)"
   ]
  },
  {
   "cell_type": "code",
   "execution_count": 13,
   "id": "728fd860",
   "metadata": {},
   "outputs": [
    {
     "name": "stdout",
     "output_type": "stream",
     "text": [
      "[ 1.00000000e+00  9.53674316e-06  2.57492065e-04  1.71661377e-04\n",
      " -1.05857849e-03 -5.24520874e-05 -1.11579895e-03  1.14440918e-04\n",
      " -2.38060784e-06  1.75389558e-01  8.85453755e-06 -8.73069942e-01\n",
      "  1.10915771e-05  1.22126341e+00  7.85393119e-01 -2.34539504e-03\n",
      "  2.35156212e+01 -3.39262970e-02 -1.59582062e+01 -1.56218112e-01\n",
      " -4.27472019e+00  3.19468454e-02  2.78617293e-01 -8.14859569e-03\n",
      "  1.47162831e+00 -8.86944144e-06  9.92707789e-01  1.32834577e-06\n",
      "  1.20545931e-01  3.99983749e-02  3.99983153e-02  1.77217578e-03\n",
      " -4.39256430e-04  8.94069672e-08  1.76891091e-03  4.38576943e-04\n",
      "  2.14576716e-07  2.55182534e-01 -2.56085605e-03  1.16568923e+00]\n"
     ]
    }
   ],
   "source": [
    "print(obs)"
   ]
  },
  {
   "cell_type": "code",
   "execution_count": 1,
   "id": "b73e74a7",
   "metadata": {},
   "outputs": [
    {
     "ename": "NameError",
     "evalue": "name 'fig' is not defined",
     "output_type": "error",
     "traceback": [
      "\u001b[0;31m---------------------------------------------------------------------------\u001b[0m",
      "\u001b[0;31mNameError\u001b[0m                                 Traceback (most recent call last)",
      "\u001b[0;32m<ipython-input-1-6564c8fad576>\u001b[0m in \u001b[0;36m<module>\u001b[0;34m\u001b[0m\n\u001b[0;32m----> 1\u001b[0;31m \u001b[0mfig\u001b[0m\u001b[0;34m.\u001b[0m\u001b[0m__dict__\u001b[0m\u001b[0;34m\u001b[0m\u001b[0;34m\u001b[0m\u001b[0m\n\u001b[0m",
      "\u001b[0;31mNameError\u001b[0m: name 'fig' is not defined"
     ]
    }
   ],
   "source": [
    "fig.__dict__"
   ]
  },
  {
   "cell_type": "code",
   "execution_count": null,
   "id": "f492e9e2",
   "metadata": {},
   "outputs": [],
   "source": []
  }
 ],
 "metadata": {
  "kernelspec": {
   "display_name": "Python 3",
   "language": "python",
   "name": "python3"
  },
  "language_info": {
   "codemirror_mode": {
    "name": "ipython",
    "version": 3
   },
   "file_extension": ".py",
   "mimetype": "text/x-python",
   "name": "python",
   "nbconvert_exporter": "python",
   "pygments_lexer": "ipython3",
   "version": "3.8.8"
  }
 },
 "nbformat": 4,
 "nbformat_minor": 5
}

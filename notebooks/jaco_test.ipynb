{
 "cells": [
  {
   "cell_type": "markdown",
   "id": "eb69a9a6",
   "metadata": {},
   "source": [
    "Jaco Test"
   ]
  },
  {
   "cell_type": "code",
   "execution_count": null,
   "id": "4e41a5a9",
   "metadata": {},
   "outputs": [],
   "source": [
    "import gym\n",
    "import rlbench.gym"
   ]
  },
  {
   "cell_type": "code",
   "execution_count": null,
   "id": "e4534b00",
   "metadata": {},
   "outputs": [],
   "source": [
    "env = gym.make('reach_target-state-v0', robot='jaco')"
   ]
  }
 ],
 "metadata": {
  "kernelspec": {
   "display_name": "Python 3 (ipykernel)",
   "language": "python",
   "name": "python3"
  }
 },
 "nbformat": 4,
 "nbformat_minor": 5
}

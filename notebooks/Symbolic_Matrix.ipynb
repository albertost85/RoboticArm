{
  "nbformat": 4,
  "nbformat_minor": 0,
  "metadata": {
    "colab": {
      "name": "Symbolic_Matrix.ipynb",
      "provenance": [],
      "authorship_tag": "ABX9TyMSswww9ZGG1JMJUUce8fsr",
      "include_colab_link": true
    },
    "kernelspec": {
      "name": "python3",
      "display_name": "Python 3"
    },
    "language_info": {
      "name": "python"
    }
  },
  "cells": [
    {
      "cell_type": "markdown",
      "metadata": {
        "id": "view-in-github",
        "colab_type": "text"
      },
      "source": [
        "<a href=\"https://colab.research.google.com/github/albertost85/RoboticArm/blob/main/notebooks/Symbolic_Matrix.ipynb\" target=\"_parent\"><img src=\"https://colab.research.google.com/assets/colab-badge.svg\" alt=\"Open In Colab\"/></a>"
      ]
    },
    {
      "cell_type": "markdown",
      "metadata": {
        "id": "kWifSImFWiNe"
      },
      "source": [
        "Symbolic expressions"
      ]
    },
    {
      "cell_type": "code",
      "metadata": {
        "id": "vYa2gGovWcWB"
      },
      "source": [
        "\n",
        "from sympy import *\n",
        "t1, t2, t3, t4, t5, t6, t7 = symbols('theta1 theta2 theta3 theta4 theta5 theta6 theta7')"
      ],
      "execution_count": null,
      "outputs": []
    },
    {
      "cell_type": "code",
      "metadata": {
        "id": "rUn9uGW2Wnat"
      },
      "source": [
        "\n",
        "T_1_2 = Matrix([\n",
        "[cos(t1),-sin(t1),0,0],\n",
        "[sin(t1),cos(t1),0,0],\n",
        "[0,0,1,330],\n",
        "[0,0,0,1]])\n",
        "T_2_3 = Matrix([\n",
        "[cos(t2),-sin(t2),0,-pi/2],\n",
        "[0,0,1,0],\n",
        "[-sin(t2),-cos(t2),0,0],\n",
        "[0,0,0,1]])\n",
        "T_1_3 = T_1_2 * T_2_3"
      ],
      "execution_count": null,
      "outputs": []
    },
    {
      "cell_type": "code",
      "metadata": {
        "id": "m29PK_k5aR4V"
      },
      "source": [
        "t = [t1, t2, t3, t4, t5, t6, t7]\n",
        "alpha = [0, -pi/2, pi/2, pi/2, -pi/2, pi/2, pi/2]\n",
        "a = [0, 0, 0, 82.5, -82.5, 0, 88]\n",
        "d = [330, 0, 316, 0, 384, 0, 0]\n",
        "i=0\n",
        "T_0_1 = Matrix([\n",
        "                [cos(t[i]), -sin(t[i]), 0, alpha[0]],\n",
        "                [sin(t[i])*cos(alpha[i]), cos(t[i])*cos(alpha[i]),-sin(alpha[i]), -sin(alpha[i])*d[i]],\n",
        "                [sin(t[i])*sin(alpha[i]), cos(t[i])*sin(alpha[i]),cos(alpha[i]), cos(alpha[i])*d[i]],\n",
        "                [0,0,0,1]\n",
        "                ])\n",
        "i=1\n",
        "T_1_2 = Matrix([\n",
        "                [cos(t[i]), -sin(t[i]), 0, alpha[0]],\n",
        "                [sin(t[i])*cos(alpha[i]), cos(t[i])*cos(alpha[i]),-sin(alpha[i]), -sin(alpha[i])*d[i]],\n",
        "                [sin(t[i])*sin(alpha[i]), cos(t[i])*sin(alpha[i]),cos(alpha[i]), cos(alpha[i])*d[i]],\n",
        "                [0,0,0,1]\n",
        "                ])\n",
        "i=2\n",
        "T_2_3 = Matrix([\n",
        "                [cos(t[i]), -sin(t[i]), 0, alpha[0]],\n",
        "                [sin(t[i])*cos(alpha[i]), cos(t[i])*cos(alpha[i]),-sin(alpha[i]), -sin(alpha[i])*d[i]],\n",
        "                [sin(t[i])*sin(alpha[i]), cos(t[i])*sin(alpha[i]),cos(alpha[i]), cos(alpha[i])*d[i]],\n",
        "                [0,0,0,1]\n",
        "                ])\n",
        "i=3\n",
        "T_3_4 = Matrix([\n",
        "                [cos(t[i]), -sin(t[i]), 0, alpha[0]],\n",
        "                [sin(t[i])*cos(alpha[i]), cos(t[i])*cos(alpha[i]),-sin(alpha[i]), -sin(alpha[i])*d[i]],\n",
        "                [sin(t[i])*sin(alpha[i]), cos(t[i])*sin(alpha[i]),cos(alpha[i]), cos(alpha[i])*d[i]],\n",
        "                [0,0,0,1]\n",
        "                ])\n",
        "i=4\n",
        "T_4_5 = Matrix([\n",
        "                [cos(t[i]), -sin(t[i]), 0, alpha[0]],\n",
        "                [sin(t[i])*cos(alpha[i]), cos(t[i])*cos(alpha[i]),-sin(alpha[i]), -sin(alpha[i])*d[i]],\n",
        "                [sin(t[i])*sin(alpha[i]), cos(t[i])*sin(alpha[i]),cos(alpha[i]), cos(alpha[i])*d[i]],\n",
        "                [0,0,0,1]\n",
        "                ])\n",
        "i=5\n",
        "T_5_6 = Matrix([\n",
        "                [cos(t[i]), -sin(t[i]), 0, alpha[0]],\n",
        "                [sin(t[i])*cos(alpha[i]), cos(t[i])*cos(alpha[i]),-sin(alpha[i]), -sin(alpha[i])*d[i]],\n",
        "                [sin(t[i])*sin(alpha[i]), cos(t[i])*sin(alpha[i]),cos(alpha[i]), cos(alpha[i])*d[i]],\n",
        "                [0,0,0,1]\n",
        "                ])\n",
        "i=6\n",
        "T_6_7 = Matrix([\n",
        "                [cos(t[i]), -sin(t[i]), 0, alpha[0]],\n",
        "                [sin(t[i])*cos(alpha[i]), cos(t[i])*cos(alpha[i]),-sin(alpha[i]), -sin(alpha[i])*d[i]],\n",
        "                [sin(t[i])*sin(alpha[i]), cos(t[i])*sin(alpha[i]),cos(alpha[i]), cos(alpha[i])*d[i]],\n",
        "                [0,0,0,1]\n",
        "                ])\n"
      ],
      "execution_count": null,
      "outputs": []
    },
    {
      "cell_type": "code",
      "metadata": {
        "colab": {
          "base_uri": "https://localhost:8080/"
        },
        "id": "ldzTKq89X06d",
        "outputId": "0d914be8-47c8-4b5c-b564-c12816a4556c"
      },
      "source": [
        "T_0_7 = T_0_1 * T_1_2 *T_2_3*T_3_4*T_4_5*T_5_6*T_6_7\n",
        "T_0_7\n",
        "init_printing() \n",
        "print(latex(T_0_7))"
      ],
      "execution_count": null,
      "outputs": [
        {
          "output_type": "stream",
          "name": "stdout",
          "text": [
            "\\left[\\begin{matrix}\\left(\\left(\\left(\\left(- \\sin{\\left(\\theta_{1} \\right)} \\sin{\\left(\\theta_{3} \\right)} + \\cos{\\left(\\theta_{1} \\right)} \\cos{\\left(\\theta_{2} \\right)} \\cos{\\left(\\theta_{3} \\right)}\\right) \\cos{\\left(\\theta_{4} \\right)} + \\sin{\\left(\\theta_{2} \\right)} \\sin{\\left(\\theta_{4} \\right)} \\cos{\\left(\\theta_{1} \\right)}\\right) \\cos{\\left(\\theta_{5} \\right)} - \\left(\\sin{\\left(\\theta_{1} \\right)} \\cos{\\left(\\theta_{3} \\right)} + \\sin{\\left(\\theta_{3} \\right)} \\cos{\\left(\\theta_{1} \\right)} \\cos{\\left(\\theta_{2} \\right)}\\right) \\sin{\\left(\\theta_{5} \\right)}\\right) \\cos{\\left(\\theta_{6} \\right)} + \\left(- \\left(- \\sin{\\left(\\theta_{1} \\right)} \\sin{\\left(\\theta_{3} \\right)} + \\cos{\\left(\\theta_{1} \\right)} \\cos{\\left(\\theta_{2} \\right)} \\cos{\\left(\\theta_{3} \\right)}\\right) \\sin{\\left(\\theta_{4} \\right)} + \\sin{\\left(\\theta_{2} \\right)} \\cos{\\left(\\theta_{1} \\right)} \\cos{\\left(\\theta_{4} \\right)}\\right) \\sin{\\left(\\theta_{6} \\right)}\\right) \\cos{\\left(\\theta_{7} \\right)} + \\left(\\left(\\left(- \\sin{\\left(\\theta_{1} \\right)} \\sin{\\left(\\theta_{3} \\right)} + \\cos{\\left(\\theta_{1} \\right)} \\cos{\\left(\\theta_{2} \\right)} \\cos{\\left(\\theta_{3} \\right)}\\right) \\cos{\\left(\\theta_{4} \\right)} + \\sin{\\left(\\theta_{2} \\right)} \\sin{\\left(\\theta_{4} \\right)} \\cos{\\left(\\theta_{1} \\right)}\\right) \\sin{\\left(\\theta_{5} \\right)} + \\left(\\sin{\\left(\\theta_{1} \\right)} \\cos{\\left(\\theta_{3} \\right)} + \\sin{\\left(\\theta_{3} \\right)} \\cos{\\left(\\theta_{1} \\right)} \\cos{\\left(\\theta_{2} \\right)}\\right) \\cos{\\left(\\theta_{5} \\right)}\\right) \\sin{\\left(\\theta_{7} \\right)} & - \\left(\\left(\\left(\\left(- \\sin{\\left(\\theta_{1} \\right)} \\sin{\\left(\\theta_{3} \\right)} + \\cos{\\left(\\theta_{1} \\right)} \\cos{\\left(\\theta_{2} \\right)} \\cos{\\left(\\theta_{3} \\right)}\\right) \\cos{\\left(\\theta_{4} \\right)} + \\sin{\\left(\\theta_{2} \\right)} \\sin{\\left(\\theta_{4} \\right)} \\cos{\\left(\\theta_{1} \\right)}\\right) \\cos{\\left(\\theta_{5} \\right)} - \\left(\\sin{\\left(\\theta_{1} \\right)} \\cos{\\left(\\theta_{3} \\right)} + \\sin{\\left(\\theta_{3} \\right)} \\cos{\\left(\\theta_{1} \\right)} \\cos{\\left(\\theta_{2} \\right)}\\right) \\sin{\\left(\\theta_{5} \\right)}\\right) \\cos{\\left(\\theta_{6} \\right)} + \\left(- \\left(- \\sin{\\left(\\theta_{1} \\right)} \\sin{\\left(\\theta_{3} \\right)} + \\cos{\\left(\\theta_{1} \\right)} \\cos{\\left(\\theta_{2} \\right)} \\cos{\\left(\\theta_{3} \\right)}\\right) \\sin{\\left(\\theta_{4} \\right)} + \\sin{\\left(\\theta_{2} \\right)} \\cos{\\left(\\theta_{1} \\right)} \\cos{\\left(\\theta_{4} \\right)}\\right) \\sin{\\left(\\theta_{6} \\right)}\\right) \\sin{\\left(\\theta_{7} \\right)} + \\left(\\left(\\left(- \\sin{\\left(\\theta_{1} \\right)} \\sin{\\left(\\theta_{3} \\right)} + \\cos{\\left(\\theta_{1} \\right)} \\cos{\\left(\\theta_{2} \\right)} \\cos{\\left(\\theta_{3} \\right)}\\right) \\cos{\\left(\\theta_{4} \\right)} + \\sin{\\left(\\theta_{2} \\right)} \\sin{\\left(\\theta_{4} \\right)} \\cos{\\left(\\theta_{1} \\right)}\\right) \\sin{\\left(\\theta_{5} \\right)} + \\left(\\sin{\\left(\\theta_{1} \\right)} \\cos{\\left(\\theta_{3} \\right)} + \\sin{\\left(\\theta_{3} \\right)} \\cos{\\left(\\theta_{1} \\right)} \\cos{\\left(\\theta_{2} \\right)}\\right) \\cos{\\left(\\theta_{5} \\right)}\\right) \\cos{\\left(\\theta_{7} \\right)} & \\left(\\left(\\left(- \\sin{\\left(\\theta_{1} \\right)} \\sin{\\left(\\theta_{3} \\right)} + \\cos{\\left(\\theta_{1} \\right)} \\cos{\\left(\\theta_{2} \\right)} \\cos{\\left(\\theta_{3} \\right)}\\right) \\cos{\\left(\\theta_{4} \\right)} + \\sin{\\left(\\theta_{2} \\right)} \\sin{\\left(\\theta_{4} \\right)} \\cos{\\left(\\theta_{1} \\right)}\\right) \\cos{\\left(\\theta_{5} \\right)} - \\left(\\sin{\\left(\\theta_{1} \\right)} \\cos{\\left(\\theta_{3} \\right)} + \\sin{\\left(\\theta_{3} \\right)} \\cos{\\left(\\theta_{1} \\right)} \\cos{\\left(\\theta_{2} \\right)}\\right) \\sin{\\left(\\theta_{5} \\right)}\\right) \\sin{\\left(\\theta_{6} \\right)} - \\left(- \\left(- \\sin{\\left(\\theta_{1} \\right)} \\sin{\\left(\\theta_{3} \\right)} + \\cos{\\left(\\theta_{1} \\right)} \\cos{\\left(\\theta_{2} \\right)} \\cos{\\left(\\theta_{3} \\right)}\\right) \\sin{\\left(\\theta_{4} \\right)} + \\sin{\\left(\\theta_{2} \\right)} \\cos{\\left(\\theta_{1} \\right)} \\cos{\\left(\\theta_{4} \\right)}\\right) \\cos{\\left(\\theta_{6} \\right)} & - 384 \\left(- \\sin{\\left(\\theta_{1} \\right)} \\sin{\\left(\\theta_{3} \\right)} + \\cos{\\left(\\theta_{1} \\right)} \\cos{\\left(\\theta_{2} \\right)} \\cos{\\left(\\theta_{3} \\right)}\\right) \\sin{\\left(\\theta_{4} \\right)} + 384 \\sin{\\left(\\theta_{2} \\right)} \\cos{\\left(\\theta_{1} \\right)} \\cos{\\left(\\theta_{4} \\right)} + 316 \\sin{\\left(\\theta_{2} \\right)} \\cos{\\left(\\theta_{1} \\right)}\\\\\\left(\\left(\\left(\\left(\\sin{\\left(\\theta_{1} \\right)} \\cos{\\left(\\theta_{2} \\right)} \\cos{\\left(\\theta_{3} \\right)} + \\sin{\\left(\\theta_{3} \\right)} \\cos{\\left(\\theta_{1} \\right)}\\right) \\cos{\\left(\\theta_{4} \\right)} + \\sin{\\left(\\theta_{1} \\right)} \\sin{\\left(\\theta_{2} \\right)} \\sin{\\left(\\theta_{4} \\right)}\\right) \\cos{\\left(\\theta_{5} \\right)} - \\left(\\sin{\\left(\\theta_{1} \\right)} \\sin{\\left(\\theta_{3} \\right)} \\cos{\\left(\\theta_{2} \\right)} - \\cos{\\left(\\theta_{1} \\right)} \\cos{\\left(\\theta_{3} \\right)}\\right) \\sin{\\left(\\theta_{5} \\right)}\\right) \\cos{\\left(\\theta_{6} \\right)} + \\left(- \\left(\\sin{\\left(\\theta_{1} \\right)} \\cos{\\left(\\theta_{2} \\right)} \\cos{\\left(\\theta_{3} \\right)} + \\sin{\\left(\\theta_{3} \\right)} \\cos{\\left(\\theta_{1} \\right)}\\right) \\sin{\\left(\\theta_{4} \\right)} + \\sin{\\left(\\theta_{1} \\right)} \\sin{\\left(\\theta_{2} \\right)} \\cos{\\left(\\theta_{4} \\right)}\\right) \\sin{\\left(\\theta_{6} \\right)}\\right) \\cos{\\left(\\theta_{7} \\right)} + \\left(\\left(\\left(\\sin{\\left(\\theta_{1} \\right)} \\cos{\\left(\\theta_{2} \\right)} \\cos{\\left(\\theta_{3} \\right)} + \\sin{\\left(\\theta_{3} \\right)} \\cos{\\left(\\theta_{1} \\right)}\\right) \\cos{\\left(\\theta_{4} \\right)} + \\sin{\\left(\\theta_{1} \\right)} \\sin{\\left(\\theta_{2} \\right)} \\sin{\\left(\\theta_{4} \\right)}\\right) \\sin{\\left(\\theta_{5} \\right)} + \\left(\\sin{\\left(\\theta_{1} \\right)} \\sin{\\left(\\theta_{3} \\right)} \\cos{\\left(\\theta_{2} \\right)} - \\cos{\\left(\\theta_{1} \\right)} \\cos{\\left(\\theta_{3} \\right)}\\right) \\cos{\\left(\\theta_{5} \\right)}\\right) \\sin{\\left(\\theta_{7} \\right)} & - \\left(\\left(\\left(\\left(\\sin{\\left(\\theta_{1} \\right)} \\cos{\\left(\\theta_{2} \\right)} \\cos{\\left(\\theta_{3} \\right)} + \\sin{\\left(\\theta_{3} \\right)} \\cos{\\left(\\theta_{1} \\right)}\\right) \\cos{\\left(\\theta_{4} \\right)} + \\sin{\\left(\\theta_{1} \\right)} \\sin{\\left(\\theta_{2} \\right)} \\sin{\\left(\\theta_{4} \\right)}\\right) \\cos{\\left(\\theta_{5} \\right)} - \\left(\\sin{\\left(\\theta_{1} \\right)} \\sin{\\left(\\theta_{3} \\right)} \\cos{\\left(\\theta_{2} \\right)} - \\cos{\\left(\\theta_{1} \\right)} \\cos{\\left(\\theta_{3} \\right)}\\right) \\sin{\\left(\\theta_{5} \\right)}\\right) \\cos{\\left(\\theta_{6} \\right)} + \\left(- \\left(\\sin{\\left(\\theta_{1} \\right)} \\cos{\\left(\\theta_{2} \\right)} \\cos{\\left(\\theta_{3} \\right)} + \\sin{\\left(\\theta_{3} \\right)} \\cos{\\left(\\theta_{1} \\right)}\\right) \\sin{\\left(\\theta_{4} \\right)} + \\sin{\\left(\\theta_{1} \\right)} \\sin{\\left(\\theta_{2} \\right)} \\cos{\\left(\\theta_{4} \\right)}\\right) \\sin{\\left(\\theta_{6} \\right)}\\right) \\sin{\\left(\\theta_{7} \\right)} + \\left(\\left(\\left(\\sin{\\left(\\theta_{1} \\right)} \\cos{\\left(\\theta_{2} \\right)} \\cos{\\left(\\theta_{3} \\right)} + \\sin{\\left(\\theta_{3} \\right)} \\cos{\\left(\\theta_{1} \\right)}\\right) \\cos{\\left(\\theta_{4} \\right)} + \\sin{\\left(\\theta_{1} \\right)} \\sin{\\left(\\theta_{2} \\right)} \\sin{\\left(\\theta_{4} \\right)}\\right) \\sin{\\left(\\theta_{5} \\right)} + \\left(\\sin{\\left(\\theta_{1} \\right)} \\sin{\\left(\\theta_{3} \\right)} \\cos{\\left(\\theta_{2} \\right)} - \\cos{\\left(\\theta_{1} \\right)} \\cos{\\left(\\theta_{3} \\right)}\\right) \\cos{\\left(\\theta_{5} \\right)}\\right) \\cos{\\left(\\theta_{7} \\right)} & \\left(\\left(\\left(\\sin{\\left(\\theta_{1} \\right)} \\cos{\\left(\\theta_{2} \\right)} \\cos{\\left(\\theta_{3} \\right)} + \\sin{\\left(\\theta_{3} \\right)} \\cos{\\left(\\theta_{1} \\right)}\\right) \\cos{\\left(\\theta_{4} \\right)} + \\sin{\\left(\\theta_{1} \\right)} \\sin{\\left(\\theta_{2} \\right)} \\sin{\\left(\\theta_{4} \\right)}\\right) \\cos{\\left(\\theta_{5} \\right)} - \\left(\\sin{\\left(\\theta_{1} \\right)} \\sin{\\left(\\theta_{3} \\right)} \\cos{\\left(\\theta_{2} \\right)} - \\cos{\\left(\\theta_{1} \\right)} \\cos{\\left(\\theta_{3} \\right)}\\right) \\sin{\\left(\\theta_{5} \\right)}\\right) \\sin{\\left(\\theta_{6} \\right)} - \\left(- \\left(\\sin{\\left(\\theta_{1} \\right)} \\cos{\\left(\\theta_{2} \\right)} \\cos{\\left(\\theta_{3} \\right)} + \\sin{\\left(\\theta_{3} \\right)} \\cos{\\left(\\theta_{1} \\right)}\\right) \\sin{\\left(\\theta_{4} \\right)} + \\sin{\\left(\\theta_{1} \\right)} \\sin{\\left(\\theta_{2} \\right)} \\cos{\\left(\\theta_{4} \\right)}\\right) \\cos{\\left(\\theta_{6} \\right)} & - 384 \\left(\\sin{\\left(\\theta_{1} \\right)} \\cos{\\left(\\theta_{2} \\right)} \\cos{\\left(\\theta_{3} \\right)} + \\sin{\\left(\\theta_{3} \\right)} \\cos{\\left(\\theta_{1} \\right)}\\right) \\sin{\\left(\\theta_{4} \\right)} + 384 \\sin{\\left(\\theta_{1} \\right)} \\sin{\\left(\\theta_{2} \\right)} \\cos{\\left(\\theta_{4} \\right)} + 316 \\sin{\\left(\\theta_{1} \\right)} \\sin{\\left(\\theta_{2} \\right)}\\\\\\left(\\left(\\left(- \\sin{\\left(\\theta_{2} \\right)} \\cos{\\left(\\theta_{3} \\right)} \\cos{\\left(\\theta_{4} \\right)} + \\sin{\\left(\\theta_{4} \\right)} \\cos{\\left(\\theta_{2} \\right)}\\right) \\cos{\\left(\\theta_{5} \\right)} + \\sin{\\left(\\theta_{2} \\right)} \\sin{\\left(\\theta_{3} \\right)} \\sin{\\left(\\theta_{5} \\right)}\\right) \\cos{\\left(\\theta_{6} \\right)} + \\left(\\sin{\\left(\\theta_{2} \\right)} \\sin{\\left(\\theta_{4} \\right)} \\cos{\\left(\\theta_{3} \\right)} + \\cos{\\left(\\theta_{2} \\right)} \\cos{\\left(\\theta_{4} \\right)}\\right) \\sin{\\left(\\theta_{6} \\right)}\\right) \\cos{\\left(\\theta_{7} \\right)} + \\left(\\left(- \\sin{\\left(\\theta_{2} \\right)} \\cos{\\left(\\theta_{3} \\right)} \\cos{\\left(\\theta_{4} \\right)} + \\sin{\\left(\\theta_{4} \\right)} \\cos{\\left(\\theta_{2} \\right)}\\right) \\sin{\\left(\\theta_{5} \\right)} - \\sin{\\left(\\theta_{2} \\right)} \\sin{\\left(\\theta_{3} \\right)} \\cos{\\left(\\theta_{5} \\right)}\\right) \\sin{\\left(\\theta_{7} \\right)} & - \\left(\\left(\\left(- \\sin{\\left(\\theta_{2} \\right)} \\cos{\\left(\\theta_{3} \\right)} \\cos{\\left(\\theta_{4} \\right)} + \\sin{\\left(\\theta_{4} \\right)} \\cos{\\left(\\theta_{2} \\right)}\\right) \\cos{\\left(\\theta_{5} \\right)} + \\sin{\\left(\\theta_{2} \\right)} \\sin{\\left(\\theta_{3} \\right)} \\sin{\\left(\\theta_{5} \\right)}\\right) \\cos{\\left(\\theta_{6} \\right)} + \\left(\\sin{\\left(\\theta_{2} \\right)} \\sin{\\left(\\theta_{4} \\right)} \\cos{\\left(\\theta_{3} \\right)} + \\cos{\\left(\\theta_{2} \\right)} \\cos{\\left(\\theta_{4} \\right)}\\right) \\sin{\\left(\\theta_{6} \\right)}\\right) \\sin{\\left(\\theta_{7} \\right)} + \\left(\\left(- \\sin{\\left(\\theta_{2} \\right)} \\cos{\\left(\\theta_{3} \\right)} \\cos{\\left(\\theta_{4} \\right)} + \\sin{\\left(\\theta_{4} \\right)} \\cos{\\left(\\theta_{2} \\right)}\\right) \\sin{\\left(\\theta_{5} \\right)} - \\sin{\\left(\\theta_{2} \\right)} \\sin{\\left(\\theta_{3} \\right)} \\cos{\\left(\\theta_{5} \\right)}\\right) \\cos{\\left(\\theta_{7} \\right)} & \\left(\\left(- \\sin{\\left(\\theta_{2} \\right)} \\cos{\\left(\\theta_{3} \\right)} \\cos{\\left(\\theta_{4} \\right)} + \\sin{\\left(\\theta_{4} \\right)} \\cos{\\left(\\theta_{2} \\right)}\\right) \\cos{\\left(\\theta_{5} \\right)} + \\sin{\\left(\\theta_{2} \\right)} \\sin{\\left(\\theta_{3} \\right)} \\sin{\\left(\\theta_{5} \\right)}\\right) \\sin{\\left(\\theta_{6} \\right)} - \\left(\\sin{\\left(\\theta_{2} \\right)} \\sin{\\left(\\theta_{4} \\right)} \\cos{\\left(\\theta_{3} \\right)} + \\cos{\\left(\\theta_{2} \\right)} \\cos{\\left(\\theta_{4} \\right)}\\right) \\cos{\\left(\\theta_{6} \\right)} & 384 \\sin{\\left(\\theta_{2} \\right)} \\sin{\\left(\\theta_{4} \\right)} \\cos{\\left(\\theta_{3} \\right)} + 384 \\cos{\\left(\\theta_{2} \\right)} \\cos{\\left(\\theta_{4} \\right)} + 316 \\cos{\\left(\\theta_{2} \\right)} + 330\\\\0 & 0 & 0 & 1\\end{matrix}\\right]\n"
          ]
        }
      ]
    },
    {
      "cell_type": "code",
      "metadata": {
        "colab": {
          "base_uri": "https://localhost:8080/"
        },
        "id": "-fSLKg-HeCEh",
        "outputId": "bd5a8ffb-6b57-42fa-9af7-b8cfadc863ce"
      },
      "source": [
        "print(latex(T_0_7[2,3]))"
      ],
      "execution_count": null,
      "outputs": [
        {
          "output_type": "stream",
          "name": "stdout",
          "text": [
            "384 \\sin{\\left(\\theta_{2} \\right)} \\sin{\\left(\\theta_{4} \\right)} \\cos{\\left(\\theta_{3} \\right)} + 384 \\cos{\\left(\\theta_{2} \\right)} \\cos{\\left(\\theta_{4} \\right)} + 316 \\cos{\\left(\\theta_{2} \\right)} + 330\n"
          ]
        }
      ]
    },
    {
      "cell_type": "code",
      "metadata": {
        "colab": {
          "base_uri": "https://localhost:8080/",
          "height": 81
        },
        "id": "8jk7Ag1gqIoP",
        "outputId": "8433a0ad-587b-4ddc-f2e1-911a29642008"
      },
      "source": [
        "T_0_7[0,0]"
      ],
      "execution_count": null,
      "outputs": [
        {
          "output_type": "execute_result",
          "data": {
            "image/png": "[encoded data removed]",
            "text/latex": "$\\displaystyle \\left(\\left(\\left(\\left(- \\sin{\\left(\\theta_{1} \\right)} \\sin{\\left(\\theta_{3} \\right)} + \\cos{\\left(\\theta_{1} \\right)} \\cos{\\left(\\theta_{2} \\right)} \\cos{\\left(\\theta_{3} \\right)}\\right) \\cos{\\left(\\theta_{4} \\right)} + \\sin{\\left(\\theta_{2} \\right)} \\sin{\\left(\\theta_{4} \\right)} \\cos{\\left(\\theta_{1} \\right)}\\right) \\cos{\\left(\\theta_{5} \\right)} - \\left(\\sin{\\left(\\theta_{1} \\right)} \\cos{\\left(\\theta_{3} \\right)} + \\sin{\\left(\\theta_{3} \\right)} \\cos{\\left(\\theta_{1} \\right)} \\cos{\\left(\\theta_{2} \\right)}\\right) \\sin{\\left(\\theta_{5} \\right)}\\right) \\cos{\\left(\\theta_{6} \\right)} + \\left(- \\left(- \\sin{\\left(\\theta_{1} \\right)} \\sin{\\left(\\theta_{3} \\right)} + \\cos{\\left(\\theta_{1} \\right)} \\cos{\\left(\\theta_{2} \\right)} \\cos{\\left(\\theta_{3} \\right)}\\right) \\sin{\\left(\\theta_{4} \\right)} + \\sin{\\left(\\theta_{2} \\right)} \\cos{\\left(\\theta_{1} \\right)} \\cos{\\left(\\theta_{4} \\right)}\\right) \\sin{\\left(\\theta_{6} \\right)}\\right) \\cos{\\left(\\theta_{7} \\right)} + \\left(\\left(\\left(- \\sin{\\left(\\theta_{1} \\right)} \\sin{\\left(\\theta_{3} \\right)} + \\cos{\\left(\\theta_{1} \\right)} \\cos{\\left(\\theta_{2} \\right)} \\cos{\\left(\\theta_{3} \\right)}\\right) \\cos{\\left(\\theta_{4} \\right)} + \\sin{\\left(\\theta_{2} \\right)} \\sin{\\left(\\theta_{4} \\right)} \\cos{\\left(\\theta_{1} \\right)}\\right) \\sin{\\left(\\theta_{5} \\right)} + \\left(\\sin{\\left(\\theta_{1} \\right)} \\cos{\\left(\\theta_{3} \\right)} + \\sin{\\left(\\theta_{3} \\right)} \\cos{\\left(\\theta_{1} \\right)} \\cos{\\left(\\theta_{2} \\right)}\\right) \\cos{\\left(\\theta_{5} \\right)}\\right) \\sin{\\left(\\theta_{7} \\right)}$",
            "text/plain": [
              "((((-sin(θ₁)⋅sin(θ₃) + cos(θ₁)⋅cos(θ₂)⋅cos(θ₃))⋅cos(θ₄) + sin(θ₂)⋅sin(θ₄)⋅cos(\n",
              "θ₁))⋅cos(θ₅) - (sin(θ₁)⋅cos(θ₃) + sin(θ₃)⋅cos(θ₁)⋅cos(θ₂))⋅sin(θ₅))⋅cos(θ₆) + \n",
              "(-(-sin(θ₁)⋅sin(θ₃) + cos(θ₁)⋅cos(θ₂)⋅cos(θ₃))⋅sin(θ₄) + sin(θ₂)⋅cos(θ₁)⋅cos(θ\n",
              "₄))⋅sin(θ₆))⋅cos(θ₇) + (((-sin(θ₁)⋅sin(θ₃) + cos(θ₁)⋅cos(θ₂)⋅cos(θ₃))⋅cos(θ₄) \n",
              "+ sin(θ₂)⋅sin(θ₄)⋅cos(θ₁))⋅sin(θ₅) + (sin(θ₁)⋅cos(θ₃) + sin(θ₃)⋅cos(θ₁)⋅cos(θ₂\n",
              "))⋅cos(θ₅))⋅sin(θ₇)"
            ]
          },
          "metadata": {},
          "execution_count": 34
        }
      ]
    }
  ]
}